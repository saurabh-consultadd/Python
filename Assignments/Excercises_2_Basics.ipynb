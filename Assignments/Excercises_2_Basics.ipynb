{
  "cells": [
    {
      "cell_type": "markdown",
      "metadata": {
        "id": "4OMo5eODDqgr"
      },
      "source": [
        "Write a function translate() that will translate a text into \"rövarspråket\" (Swedish for \"robber's language\"). That is, double every consonant and place an occurrence of \"o\" in between. For example, translate(\"this is fun\") should return the string \"tothohisos isos fofunon\"."
      ]
    },
    {
      "cell_type": "code",
      "execution_count": 1,
      "metadata": {
        "colab": {
          "base_uri": "https://localhost:8080/",
          "height": 35
        },
        "id": "zNfPY1dbDqgv",
        "outputId": "0f0d9f0e-5d1d-461b-e72a-4f1bd840dde2"
      },
      "outputs": [
        {
          "output_type": "execute_result",
          "data": {
            "text/plain": [
              "'tothohisos isos fofunon'"
            ],
            "application/vnd.google.colaboratory.intrinsic+json": {
              "type": "string"
            }
          },
          "metadata": {},
          "execution_count": 1
        }
      ],
      "source": [
        "# Your Solution here\n",
        "def translate(str):\n",
        "  ans=\"\"\n",
        "  for s in str:\n",
        "    if s=='a' or s=='e' or s=='i' or s=='o' or s=='u':\n",
        "      ans = ans+s\n",
        "    elif s==' ':\n",
        "      ans = ans+' '\n",
        "    else:\n",
        "      ans=ans+s\n",
        "      ans=ans+'o'\n",
        "      ans=ans+s\n",
        "  return ans\n",
        "\n",
        "translate(\"this is fun\")"
      ]
    },
    {
      "cell_type": "markdown",
      "metadata": {
        "id": "Kp_PSa15Dqgw"
      },
      "source": [
        "Define a function sum() and a function multiply() that sums and multiplies (respectively) all the numbers in a list of numbers. For example, sum([1, 2, 3, 4]) should return 10, and multiply([1, 2, 3, 4]) should return 24"
      ]
    },
    {
      "cell_type": "code",
      "execution_count": 4,
      "metadata": {
        "colab": {
          "base_uri": "https://localhost:8080/"
        },
        "id": "D6NuIDgiDqgx",
        "outputId": "98b81ad5-19ac-4a2d-bb91-80be03f8ca4f"
      },
      "outputs": [
        {
          "output_type": "stream",
          "name": "stdout",
          "text": [
            "10 24\n"
          ]
        }
      ],
      "source": [
        "import functools\n",
        "sum = [1,2,3,4]\n",
        "multiply = [1,2,3,4]\n",
        "\n",
        "a = functools.reduce(lambda x,y:x+y, sum)\n",
        "b = functools.reduce(lambda x,y:x*y, multiply)\n",
        "print(a, b)"
      ]
    },
    {
      "cell_type": "markdown",
      "metadata": {
        "id": "oeXCCi15Dqgx"
      },
      "source": [
        "**Define a function reverse() that computes the reversal of a string. For example, reverse(\"I am testing\") should return the string \"gnitset ma I**"
      ]
    },
    {
      "cell_type": "code",
      "execution_count": 5,
      "metadata": {
        "colab": {
          "base_uri": "https://localhost:8080/",
          "height": 35
        },
        "id": "XL-vthkZDqgx",
        "outputId": "01e25f92-0c65-4e04-c7ac-bce5053e31e1"
      },
      "outputs": [
        {
          "output_type": "execute_result",
          "data": {
            "text/plain": [
              "'gnitset ma I'"
            ],
            "application/vnd.google.colaboratory.intrinsic+json": {
              "type": "string"
            }
          },
          "metadata": {},
          "execution_count": 5
        }
      ],
      "source": [
        "def reverse(str):\n",
        "  return str[::-1]\n",
        "\n",
        "reverse(\"I am testing\")"
      ]
    },
    {
      "cell_type": "markdown",
      "metadata": {
        "id": "7B43RkuuDqgx"
      },
      "source": [
        "**Define a function is_palindrome() that recognizes palindromes (i.e. words that look the same written backwards). For example, is_palindrome(\"radar\") should return True.**"
      ]
    },
    {
      "cell_type": "code",
      "execution_count": 6,
      "metadata": {
        "colab": {
          "base_uri": "https://localhost:8080/"
        },
        "id": "mDTZYnuIDqgy",
        "outputId": "6934f723-9b2a-4ebf-9ffd-f15d6de24e93"
      },
      "outputs": [
        {
          "output_type": "execute_result",
          "data": {
            "text/plain": [
              "True"
            ]
          },
          "metadata": {},
          "execution_count": 6
        }
      ],
      "source": [
        "def is_palindrome(str):\n",
        "  rev_str = str[::-1]\n",
        "  if rev_str == str:\n",
        "    return True\n",
        "  return False\n",
        "\n",
        "is_palindrome(\"radar\")"
      ]
    },
    {
      "cell_type": "markdown",
      "metadata": {
        "id": "tpJAUTKrDqgy"
      },
      "source": [
        "**Write a function is_member() that takes a value (i.e. a number, string, etc) x and a list of values a, and returns True if x is a member of a, False otherwise.**"
      ]
    },
    {
      "cell_type": "code",
      "execution_count": 7,
      "metadata": {
        "colab": {
          "base_uri": "https://localhost:8080/"
        },
        "id": "PQQ0o9J6Dqgy",
        "outputId": "e5fe5c8f-a2a6-4a87-e5bf-5ca6835ddd8b"
      },
      "outputs": [
        {
          "output_type": "execute_result",
          "data": {
            "text/plain": [
              "True"
            ]
          },
          "metadata": {},
          "execution_count": 7
        }
      ],
      "source": [
        "def is_member(x, l):\n",
        "  if l.count(x)>0:\n",
        "    return True\n",
        "  return False\n",
        "\n",
        "l = [1,2,3,4,5]\n",
        "is_member(2, l)"
      ]
    },
    {
      "cell_type": "markdown",
      "metadata": {
        "id": "XYZBf4v3Dqgy"
      },
      "source": [
        "**Define a function overlapping() that takes two lists and returns True if they have at least one member in common, False otherwise. You may use your is_member() function, or the in operator, but for the sake of the exercise, you should (also) write it using two nested for-loops.**"
      ]
    },
    {
      "cell_type": "code",
      "execution_count": 9,
      "metadata": {
        "colab": {
          "base_uri": "https://localhost:8080/"
        },
        "id": "gi6q1R9sDqgy",
        "outputId": "05335a1d-9c90-48bb-9c3a-b1b2c1ea6ed1"
      },
      "outputs": [
        {
          "output_type": "execute_result",
          "data": {
            "text/plain": [
              "True"
            ]
          },
          "metadata": {},
          "execution_count": 9
        }
      ],
      "source": [
        "\"\"\"\n",
        "def overlapping(l1, l2):\n",
        "  for i in l1:\n",
        "    for j in l2:\n",
        "      if i==j:\n",
        "        return True\n",
        "  return False\n",
        "\n",
        "l1 = [1,2,3,4]\n",
        "l2 = [3,4,5,6]\n",
        "\n",
        "overlapping(l1, l2)\n",
        "\"\"\"\n",
        "\n",
        "def overlapping(l1, l2):\n",
        "  l1_set = set(l1)\n",
        "  l2_set = set(l2)\n",
        "  if len(l1_set.intersection(l2_set)) > 0:\n",
        "    return True\n",
        "  return False\n",
        "\n",
        "l1 = [1,2,3,4]\n",
        "l2 = [3,4,5,6]\n",
        "\n",
        "overlapping(l1, l2)"
      ]
    },
    {
      "cell_type": "markdown",
      "metadata": {
        "id": "16dCmRKtDqgy"
      },
      "source": [
        "# *Define a procedure histogram() that takes a list of integers and prints a histogram to the screen. For example, histogram([4, 9, 7]) should print the following:*(click on next cell to see)\n"
      ]
    },
    {
      "cell_type": "markdown",
      "metadata": {
        "id": "J95UtWiODqgz"
      },
      "source": [
        "\n",
        "****\n",
        "*********\n",
        "*******"
      ]
    },
    {
      "cell_type": "code",
      "execution_count": 10,
      "metadata": {
        "id": "nYXMUhANDqgz"
      },
      "outputs": [],
      "source": []
    },
    {
      "cell_type": "markdown",
      "metadata": {
        "id": "PMA7EZyEDqgz"
      },
      "source": [
        "**Write a function char_freq() that takes a string and builds a frequency listing of the characters contained in it. Represent the frequency listing as a Python dictionary. Try it with something like char_freq(\"abbabcbdbabdbdbabababcbcbab\").**\n",
        "\n"
      ]
    },
    {
      "cell_type": "code",
      "execution_count": 11,
      "metadata": {
        "colab": {
          "base_uri": "https://localhost:8080/"
        },
        "id": "87YUE9kJDqg0",
        "outputId": "ca1ac8fc-4316-450d-db13-d87a646f61a0"
      },
      "outputs": [
        {
          "output_type": "execute_result",
          "data": {
            "text/plain": [
              "{'a': 7, 'b': 14, 'c': 3, 'd': 3}"
            ]
          },
          "metadata": {},
          "execution_count": 11
        }
      ],
      "source": [
        "def char_freq(str):\n",
        "  freq = {}\n",
        "  for i in str:\n",
        "    if i in freq:\n",
        "      freq[i] += 1\n",
        "    else:\n",
        "      freq[i] = 1\n",
        "  return freq\n",
        "\n",
        "char_freq(\"abbabcbdbabdbdbabababcbcbab\")"
      ]
    },
    {
      "cell_type": "markdown",
      "metadata": {
        "id": "eiJfRvH1Dqg0"
      },
      "source": [
        "A certain childrens game involves starting with a word in a particular category. Each participant in turn says a word, but that word must begin with the final letter of the previous word. Once a word has been given, it cannot be repeated. If an opponent cannot give a word in the category, they fall out of the game. For example, with \"animals\" as the category,\n",
        "Child 1: dog\n",
        "Child 2: goldfish\n",
        "Child 1: hippopotamus\n",
        "Child 2: snake\n",
        "...\n",
        "Your task in this exercise is as follows: Take the following selection of 70 English Pokemon names (extracted from Wikipedia's list of Pokemon) and generate the/a sequence with the highest possible number of Pokemon names where the subsequent name starts with the final letter of the preceding name. No Pokemon name is to be repeated.\n",
        "**audino bagon baltoy banette bidoof braviary bronzor carracosta charmeleon\n",
        "cresselia croagunk darmanitan deino emboar emolga exeggcute gabite\n",
        "girafarig gulpin haxorus heatmor heatran ivysaur jellicent jumpluff kangaskhan\n",
        "kricketune landorus ledyba loudred lumineon lunatone machamp magnezone mamoswine\n",
        "nosepass petilil pidgeotto pikachu pinsir poliwrath poochyena porygon2\n",
        "porygonz registeel relicanth remoraid rufflet sableye scolipede scrafty seaking\n",
        "sealeo silcoon simisear snivy snorlax spoink starly tirtouga trapinch treecko\n",
        "tyrogue vigoroth vulpix wailord wartortle whismur wingull yamask**\n",
        "\n"
      ]
    },
    {
      "cell_type": "code",
      "execution_count": null,
      "metadata": {
        "id": "AW9DwGBqDqg0"
      },
      "outputs": [],
      "source": []
    },
    {
      "cell_type": "markdown",
      "metadata": {
        "id": "KG7Wb16wDqg0"
      },
      "source": [
        "**Write a program able to play the \"Guess the number\"-game, where the number to be guessed is randomly chosen between 1 and 20. (Source: http://inventwithpython.com) This is how it should work when run in a terminal:\n",
        "\n",
        "Hello! What is your name?\n",
        "Torbjörn\n",
        "Well, Torbjörn, I am thinking of a number between 1 and 20.\n",
        "Take a guess.\n",
        "10\n",
        "Your guess is too low.\n",
        "Take a guess.\n",
        "15\n",
        "Your guess is too low.\n",
        "Take a guess.\n",
        "18\n",
        "Good job, Torbjörn! You guessed my number in 3 guesses!***"
      ]
    },
    {
      "cell_type": "code",
      "execution_count": 12,
      "metadata": {
        "colab": {
          "base_uri": "https://localhost:8080/"
        },
        "id": "Mw0y5S4XDqg0",
        "outputId": "22b06619-7f67-475f-a34d-7073c23c35e1"
      },
      "outputs": [
        {
          "output_type": "stream",
          "name": "stdout",
          "text": [
            "Hello! What is your name?Saurabh Agrawal\n",
            "Saurabh,I am thinking of a number between 1 and 20.\n",
            "Take a guess10\n",
            "Your guess is too low\n",
            "Take a guess15\n",
            "Your guess is too low\n",
            "Take a guess18\n",
            "You guessed my number in 3 guesses!\n"
          ]
        }
      ],
      "source": [
        "import random\n",
        "\n",
        "def game(f_name):\n",
        "  num = random.randint(1, 20)\n",
        "  count=0\n",
        "\n",
        "  while True:\n",
        "    n = int(input(\"Take a guess\"))\n",
        "    count+=1\n",
        "    if n == num:\n",
        "      break\n",
        "    elif n<num:\n",
        "      print(\"Your guess is too low\")\n",
        "    else:\n",
        "      print(\"Your guess is too high\")\n",
        "\n",
        "  print(\"You guessed my number in {} guesses!\".format(count))\n",
        "\n",
        "name = input(\"Hello! What is your name?\")\n",
        "f_name = name.split()[0]\n",
        "print(\"{},I am thinking of a number between 1 and 20.\".format(f_name))\n",
        "game(f_name)"
      ]
    },
    {
      "cell_type": "markdown",
      "metadata": {
        "id": "q2z0bqBKDqg1"
      },
      "source": [
        "***Write a program that maps a list of words into a list of integers representing the lengths of the correponding words.***\n"
      ]
    },
    {
      "cell_type": "code",
      "execution_count": 14,
      "metadata": {
        "colab": {
          "base_uri": "https://localhost:8080/"
        },
        "id": "KqBKHA_8Dqg1",
        "outputId": "4c0173a2-ebdc-4d7b-c20b-71cb61017233"
      },
      "outputs": [
        {
          "output_type": "execute_result",
          "data": {
            "text/plain": [
              "{'skjdfl': 6, 'iwufh': 5, 'vnkdjsdhf': 9, 'wiueirdnfkjsa': 13}"
            ]
          },
          "metadata": {},
          "execution_count": 14
        }
      ],
      "source": [
        "def word_len(l):\n",
        "  count = {}\n",
        "  for i in l:\n",
        "    count[i] = len(i)\n",
        "  return count\n",
        "\n",
        "l = [\"skjdfl\", \"iwufh\", \"vnkdjsdhf\", \"wiueirdnfkjsa\"]\n",
        "word_len(l)"
      ]
    }
  ],
  "metadata": {
    "kernelspec": {
      "display_name": "Python 3",
      "language": "python",
      "name": "python3"
    },
    "language_info": {
      "codemirror_mode": {
        "name": "ipython",
        "version": 3
      },
      "file_extension": ".py",
      "mimetype": "text/x-python",
      "name": "python",
      "nbconvert_exporter": "python",
      "pygments_lexer": "ipython3",
      "version": "3.6.8"
    },
    "colab": {
      "provenance": []
    }
  },
  "nbformat": 4,
  "nbformat_minor": 0
}